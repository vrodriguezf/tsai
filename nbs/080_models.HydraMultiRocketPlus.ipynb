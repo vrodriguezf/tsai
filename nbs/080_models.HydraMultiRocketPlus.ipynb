{
 "cells": [
  {
   "cell_type": "code",
   "execution_count": null,
   "metadata": {},
   "outputs": [],
   "source": [
    "#|default_exp models.HydraMultiRocketPlus"
   ]
  },
  {
   "attachments": {},
   "cell_type": "markdown",
   "metadata": {},
   "source": [
    "# HydraMultiRocketPlus"
   ]
  },
  {
   "attachments": {},
   "cell_type": "markdown",
   "metadata": {},
   "source": [
    ">Hydra: competing convolutional kernels for fast and accurate time series classification.\n",
    "\n",
    "This is a Pytorch implementation of Hydra-MultiRocket adapted by Ignacio Oguiza and based on:\n",
    "\n",
    "Dempster, A., Schmidt, D. F., & Webb, G. I. (2023). Hydra: Competing convolutional kernels for fast and accurate time series classification. Data Mining and Knowledge Discovery, 1-27.\n",
    "\n",
    "Original paper: https://link.springer.com/article/10.1007/s10618-023-00939-3\n",
    "\n",
    "Original repository:  https://github.com/angus924/hydra"
   ]
  },
  {
   "cell_type": "code",
   "execution_count": null,
   "metadata": {},
   "outputs": [],
   "source": [
    "#| export\n",
    "from collections import OrderedDict\n",
    "from typing import Any\n",
    "\n",
    "import numpy as np\n",
    "import torch\n",
    "import torch.nn as nn\n",
    "\n",
    "from tsai.imports import default_device\n",
    "from tsai.models.HydraPlus import HydraBackbonePlus\n",
    "from tsai.models.layers import Flatten, rocket_nd_head\n",
    "from tsai.models.MultiRocketPlus import MultiRocketBackbonePlus"
   ]
  },
  {
   "cell_type": "code",
   "execution_count": null,
   "metadata": {},
   "outputs": [],
   "source": [
    "#| export\n",
    "class HydraMultiRocketBackbonePlus(nn.Module):\n",
    "\n",
    "    def __init__(self, c_in, c_out, seq_len, d=None,\n",
    "                 k = 8, g = 64, max_c_in = 8, clip=True,\n",
    "                 num_features=50_000, max_dilations_per_kernel=32, kernel_size=9, max_num_channels=None, max_num_kernels=84,\n",
    "                 use_bn=True, fc_dropout=0, custom_head=None, zero_init=True, use_diff=True, device=default_device()):\n",
    "\n",
    "        super().__init__()\n",
    "\n",
    "        self.hydra = HydraBackbonePlus(c_in, c_out, seq_len, k=k, g=g, max_c_in=max_c_in, clip=clip, device=device, zero_init=zero_init)\n",
    "        self.multirocket = MultiRocketBackbonePlus(c_in, seq_len, num_features=num_features, max_dilations_per_kernel=max_dilations_per_kernel,\n",
    "                                                   kernel_size=kernel_size, max_num_channels=max_num_channels, max_num_kernels=max_num_kernels,\n",
    "                                                   use_diff=use_diff)\n",
    "\n",
    "        self.num_features = self.hydra.num_features + self.multirocket.num_features\n",
    "\n",
    "\n",
    "    # transform in batches of *batch_size*\n",
    "    def batch(self, X, split=None, batch_size=256):\n",
    "        bs = X.shape[0]\n",
    "        if bs <= batch_size:\n",
    "            return self(X)\n",
    "        elif split is None:\n",
    "            Z = []\n",
    "            for i in range(0, bs, batch_size):\n",
    "                Z.append(self(X[i:i+batch_size]))\n",
    "            return torch.cat(Z)\n",
    "        else:\n",
    "            Z = []\n",
    "            batches = torch.as_tensor(split).split(batch_size)\n",
    "            for i, batch in enumerate(batches):\n",
    "                Z.append(self(X[batch]))\n",
    "            return torch.cat(Z)\n",
    "\n",
    "\n",
    "    def forward(self, x):\n",
    "        x = torch.cat([self.hydra(x), self.multirocket(x)], -1)\n",
    "        return x"
   ]
  },
  {
   "cell_type": "code",
   "execution_count": null,
   "metadata": {},
   "outputs": [],
   "source": [
    "#| export\n",
    "class HydraMultiRocketPlus(nn.Sequential):\n",
    "\n",
    "    def __init__(self,\n",
    "        c_in:int, # num of channels in input\n",
    "        c_out:int, # num of channels in output\n",
    "        seq_len:int, # sequence length\n",
    "        d:tuple=None, # shape of the output (when ndim > 1)\n",
    "        k:int=8, # number of kernels per group in HydraBackbone\n",
    "        g:int=64, # number of groups in HydraBackbone\n",
    "        max_c_in:int=8, # max number of channels per group in HydraBackbone\n",
    "        clip:bool=True, # clip values >= 0 in HydraBackbone\n",
    "        num_features:int=50_000, # number of MultiRocket features\n",
    "        max_dilations_per_kernel:int=32, # max dilations per kernel in MultiRocket\n",
    "        kernel_size:int=9, # kernel size in MultiRocket\n",
    "        max_num_channels:int=None, # max number of channels in MultiRocket\n",
    "        max_num_kernels:int=84, # max number of kernels in MultiRocket\n",
    "        use_bn:bool=True, # use batch norm\n",
    "        fc_dropout:float=0., # dropout probability\n",
    "        custom_head:Any=None, # optional custom head as a torch.nn.Module or Callable\n",
    "        zero_init:bool=True, # set head weights and biases to zero\n",
    "        use_diff:bool=True, # use diff(X) as input\n",
    "        device:str=default_device(), # device to use\n",
    "        ):\n",
    "        # Backbone\n",
    "        backbone = HydraMultiRocketBackbonePlus(c_in, c_out, seq_len, k=k, g=g, max_c_in=max_c_in, clip=clip, device=device, zero_init=zero_init,\n",
    "                                                num_features=num_features, max_dilations_per_kernel=max_dilations_per_kernel,\n",
    "                                                kernel_size=kernel_size, max_num_channels=max_num_channels, max_num_kernels=max_num_kernels, use_diff=use_diff)\n",
    "\n",
    "        num_features = backbone.num_features\n",
    "\n",
    "\n",
    "        # Head\n",
    "        self.head_nf = num_features\n",
    "        if custom_head is not None:\n",
    "            if isinstance(custom_head, nn.Module): head = custom_head\n",
    "            else: head = custom_head(self.head_nf, c_out, 1)\n",
    "        elif d is not None:\n",
    "            head = rocket_nd_head(num_features, c_out, seq_len=None, d=d, use_bn=use_bn, fc_dropout=fc_dropout, zero_init=zero_init)\n",
    "        else:\n",
    "            layers = [Flatten()]\n",
    "            if use_bn:\n",
    "                layers += [nn.BatchNorm1d(num_features)]\n",
    "            if fc_dropout:\n",
    "                layers += [nn.Dropout(fc_dropout)]\n",
    "            linear = nn.Linear(num_features, c_out)\n",
    "            if zero_init:\n",
    "                nn.init.constant_(linear.weight.data, 0)\n",
    "                nn.init.constant_(linear.bias.data, 0)\n",
    "            layers += [linear]\n",
    "            head = nn.Sequential(*layers)\n",
    "\n",
    "        super().__init__(OrderedDict([('backbone', backbone), ('head', head)]))\n",
    "\n",
    "HydraMultiRocket = HydraMultiRocketPlus"
   ]
  },
  {
   "cell_type": "code",
   "execution_count": null,
   "metadata": {},
   "outputs": [
    {
     "data": {
      "text/plain": [
       "torch.Size([16, 3])"
      ]
     },
     "execution_count": null,
     "metadata": {},
     "output_type": "execute_result"
    }
   ],
   "source": [
    "xb = torch.randn(16, 5, 20).to(default_device())\n",
    "yb = torch.randint(0, 3, (16, 20)).to(default_device())\n",
    "\n",
    "model = HydraMultiRocketPlus(5, 3, 20, d=None).to(default_device())\n",
    "output = model(xb)\n",
    "assert output.shape == (16, 3)\n",
    "output.shape"
   ]
  },
  {
   "cell_type": "code",
   "execution_count": null,
   "metadata": {},
   "outputs": [
    {
     "data": {
      "text/plain": [
       "torch.Size([16, 3])"
      ]
     },
     "execution_count": null,
     "metadata": {},
     "output_type": "execute_result"
    }
   ],
   "source": [
    "xb = torch.randn(16, 5, 20).to(default_device())\n",
    "yb = torch.randint(0, 3, (16, 20)).to(default_device())\n",
    "\n",
    "model = HydraMultiRocketPlus(5, 3, 20, d=None, use_diff=False).to(default_device())\n",
    "output = model(xb)\n",
    "assert output.shape == (16, 3)\n",
    "output.shape"
   ]
  },
  {
   "cell_type": "code",
   "execution_count": null,
   "metadata": {},
   "outputs": [
    {
     "data": {
      "text/plain": [
       "torch.Size([16, 20, 3])"
      ]
     },
     "execution_count": null,
     "metadata": {},
     "output_type": "execute_result"
    }
   ],
   "source": [
    "xb = torch.randn(16, 5, 20).to(default_device())\n",
    "yb = torch.randint(0, 3, (16, 5, 20)).to(default_device())\n",
    "\n",
    "model = HydraMultiRocketPlus(5, 3, 20, d=20, use_diff=True).to(default_device())\n",
    "output = model(xb)\n",
    "assert output.shape == (16, 20, 3)\n",
    "output.shape"
   ]
  },
  {
   "cell_type": "code",
   "execution_count": null,
   "metadata": {},
   "outputs": [
    {
     "data": {
      "application/javascript": "IPython.notebook.save_checkpoint();",
      "text/plain": [
       "<IPython.core.display.Javascript object>"
      ]
     },
     "metadata": {},
     "output_type": "display_data"
    },
    {
     "name": "stdout",
     "output_type": "stream",
     "text": [
      "/Users/nacho/notebooks/tsai/nbs/080_models.HydraMultiRocketPlus.ipynb saved at 2024-02-11 00:38:41\n",
      "Correct notebook to script conversion! 😃\n",
      "Sunday 11/02/24 00:38:44 CET\n"
     ]
    },
    {
     "data": {
      "text/html": [
       "\n",
       "                <audio  controls=\"controls\" autoplay=\"autoplay\">\n",
       "                    <source src=\"data:audio/wav;base64,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\" type=\"audio/wav\" />\n",
       "                    Your browser does not support the audio element.\n",
       "                </audio>\n",
       "              "
      ],
      "text/plain": [
       "<IPython.lib.display.Audio object>"
      ]
     },
     "metadata": {},
     "output_type": "display_data"
    }
   ],
   "source": [
    "#|eval: false\n",
    "#|hide\n",
    "from tsai.export import get_nb_name; nb_name = get_nb_name(locals())\n",
    "from tsai.imports import create_scripts; create_scripts(nb_name)"
   ]
  },
  {
   "cell_type": "code",
   "execution_count": null,
   "metadata": {},
   "outputs": [],
   "source": []
  }
 ],
 "metadata": {
  "kernelspec": {
   "display_name": "python3",
   "language": "python",
   "name": "python3"
  }
 },
 "nbformat": 4,
 "nbformat_minor": 4
}
